{
 "cells": [
  {
   "cell_type": "code",
   "execution_count": 1,
   "id": "702edaf3",
   "metadata": {},
   "outputs": [],
   "source": [
    "import pandas as pd\n",
    "import matplotlib.pyplot as plt\n"
   ]
  },
  {
   "cell_type": "code",
   "execution_count": 2,
   "id": "57583563",
   "metadata": {},
   "outputs": [
    {
     "data": {
      "text/html": [
       "<div>\n",
       "<style scoped>\n",
       "    .dataframe tbody tr th:only-of-type {\n",
       "        vertical-align: middle;\n",
       "    }\n",
       "\n",
       "    .dataframe tbody tr th {\n",
       "        vertical-align: top;\n",
       "    }\n",
       "\n",
       "    .dataframe thead th {\n",
       "        text-align: right;\n",
       "    }\n",
       "</style>\n",
       "<table border=\"1\" class=\"dataframe\">\n",
       "  <thead>\n",
       "    <tr style=\"text-align: right;\">\n",
       "      <th></th>\n",
       "      <th>review_id</th>\n",
       "      <th>star_rating</th>\n",
       "      <th>helpful_votes</th>\n",
       "      <th>total_votes</th>\n",
       "      <th>vine</th>\n",
       "      <th>verified_purchase</th>\n",
       "    </tr>\n",
       "  </thead>\n",
       "  <tbody>\n",
       "    <tr>\n",
       "      <th>0</th>\n",
       "      <td>R1KKOXHNI8MSXU</td>\n",
       "      <td>4.0</td>\n",
       "      <td>0.0</td>\n",
       "      <td>0.0</td>\n",
       "      <td>N</td>\n",
       "      <td>Y</td>\n",
       "    </tr>\n",
       "    <tr>\n",
       "      <th>1</th>\n",
       "      <td>R26SP2OPDK4HT7</td>\n",
       "      <td>5.0</td>\n",
       "      <td>1.0</td>\n",
       "      <td>2.0</td>\n",
       "      <td>N</td>\n",
       "      <td>Y</td>\n",
       "    </tr>\n",
       "    <tr>\n",
       "      <th>2</th>\n",
       "      <td>RWQEDYAX373I1</td>\n",
       "      <td>5.0</td>\n",
       "      <td>0.0</td>\n",
       "      <td>0.0</td>\n",
       "      <td>N</td>\n",
       "      <td>Y</td>\n",
       "    </tr>\n",
       "    <tr>\n",
       "      <th>3</th>\n",
       "      <td>R231YI7R4GPF6J</td>\n",
       "      <td>5.0</td>\n",
       "      <td>0.0</td>\n",
       "      <td>0.0</td>\n",
       "      <td>N</td>\n",
       "      <td>Y</td>\n",
       "    </tr>\n",
       "    <tr>\n",
       "      <th>4</th>\n",
       "      <td>R3KO3W45DD0L1K</td>\n",
       "      <td>5.0</td>\n",
       "      <td>0.0</td>\n",
       "      <td>0.0</td>\n",
       "      <td>N</td>\n",
       "      <td>Y</td>\n",
       "    </tr>\n",
       "  </tbody>\n",
       "</table>\n",
       "</div>"
      ],
      "text/plain": [
       "        review_id  star_rating  helpful_votes  total_votes vine  \\\n",
       "0  R1KKOXHNI8MSXU          4.0            0.0          0.0    N   \n",
       "1  R26SP2OPDK4HT7          5.0            1.0          2.0    N   \n",
       "2   RWQEDYAX373I1          5.0            0.0          0.0    N   \n",
       "3  R231YI7R4GPF6J          5.0            0.0          0.0    N   \n",
       "4  R3KO3W45DD0L1K          5.0            0.0          0.0    N   \n",
       "\n",
       "  verified_purchase  \n",
       "0                 Y  \n",
       "1                 Y  \n",
       "2                 Y  \n",
       "3                 Y  \n",
       "4                 Y  "
      ]
     },
     "execution_count": 2,
     "metadata": {},
     "output_type": "execute_result"
    }
   ],
   "source": [
    "vine_df = pd.read_csv('vine_table.csv')\n",
    "vine_df.head()"
   ]
  },
  {
   "cell_type": "code",
   "execution_count": 3,
   "id": "d6864fd4",
   "metadata": {},
   "outputs": [
    {
     "name": "stdout",
     "output_type": "stream",
     "text": [
      "<class 'pandas.core.frame.DataFrame'>\n",
      "RangeIndex: 5906333 entries, 0 to 5906332\n",
      "Data columns (total 6 columns):\n",
      " #   Column             Dtype  \n",
      "---  ------             -----  \n",
      " 0   review_id          object \n",
      " 1   star_rating        float64\n",
      " 2   helpful_votes      float64\n",
      " 3   total_votes        float64\n",
      " 4   vine               object \n",
      " 5   verified_purchase  object \n",
      "dtypes: float64(3), object(3)\n",
      "memory usage: 270.4+ MB\n"
     ]
    }
   ],
   "source": [
    "vine_df.info()"
   ]
  },
  {
   "cell_type": "markdown",
   "id": "cf3a3d85",
   "metadata": {},
   "source": [
    "# Filter to get 20 or more total votes "
   ]
  },
  {
   "cell_type": "code",
   "execution_count": 4,
   "id": "f5475652",
   "metadata": {},
   "outputs": [
    {
     "data": {
      "text/html": [
       "<div>\n",
       "<style scoped>\n",
       "    .dataframe tbody tr th:only-of-type {\n",
       "        vertical-align: middle;\n",
       "    }\n",
       "\n",
       "    .dataframe tbody tr th {\n",
       "        vertical-align: top;\n",
       "    }\n",
       "\n",
       "    .dataframe thead th {\n",
       "        text-align: right;\n",
       "    }\n",
       "</style>\n",
       "<table border=\"1\" class=\"dataframe\">\n",
       "  <thead>\n",
       "    <tr style=\"text-align: right;\">\n",
       "      <th></th>\n",
       "      <th>review_id</th>\n",
       "      <th>star_rating</th>\n",
       "      <th>helpful_votes</th>\n",
       "      <th>total_votes</th>\n",
       "      <th>vine</th>\n",
       "      <th>verified_purchase</th>\n",
       "    </tr>\n",
       "  </thead>\n",
       "  <tbody>\n",
       "    <tr>\n",
       "      <th>211</th>\n",
       "      <td>R35PT06NWP7LDP</td>\n",
       "      <td>5.0</td>\n",
       "      <td>30.0</td>\n",
       "      <td>32.0</td>\n",
       "      <td>N</td>\n",
       "      <td>N</td>\n",
       "    </tr>\n",
       "    <tr>\n",
       "      <th>344</th>\n",
       "      <td>R2P76PJFUGXBHO</td>\n",
       "      <td>1.0</td>\n",
       "      <td>6.0</td>\n",
       "      <td>45.0</td>\n",
       "      <td>N</td>\n",
       "      <td>N</td>\n",
       "    </tr>\n",
       "    <tr>\n",
       "      <th>372</th>\n",
       "      <td>RQW4AFOG9MR4Z</td>\n",
       "      <td>5.0</td>\n",
       "      <td>51.0</td>\n",
       "      <td>52.0</td>\n",
       "      <td>N</td>\n",
       "      <td>N</td>\n",
       "    </tr>\n",
       "    <tr>\n",
       "      <th>406</th>\n",
       "      <td>R2SMUEBMGLAJQK</td>\n",
       "      <td>5.0</td>\n",
       "      <td>29.0</td>\n",
       "      <td>36.0</td>\n",
       "      <td>N</td>\n",
       "      <td>Y</td>\n",
       "    </tr>\n",
       "    <tr>\n",
       "      <th>408</th>\n",
       "      <td>R1XVIZZALU5P6J</td>\n",
       "      <td>5.0</td>\n",
       "      <td>148.0</td>\n",
       "      <td>150.0</td>\n",
       "      <td>N</td>\n",
       "      <td>Y</td>\n",
       "    </tr>\n",
       "  </tbody>\n",
       "</table>\n",
       "</div>"
      ],
      "text/plain": [
       "          review_id  star_rating  helpful_votes  total_votes vine  \\\n",
       "211  R35PT06NWP7LDP          5.0           30.0         32.0    N   \n",
       "344  R2P76PJFUGXBHO          1.0            6.0         45.0    N   \n",
       "372   RQW4AFOG9MR4Z          5.0           51.0         52.0    N   \n",
       "406  R2SMUEBMGLAJQK          5.0           29.0         36.0    N   \n",
       "408  R1XVIZZALU5P6J          5.0          148.0        150.0    N   \n",
       "\n",
       "    verified_purchase  \n",
       "211                 N  \n",
       "344                 N  \n",
       "372                 N  \n",
       "406                 Y  \n",
       "408                 Y  "
      ]
     },
     "execution_count": 4,
     "metadata": {},
     "output_type": "execute_result"
    }
   ],
   "source": [
    "filtered_vine_df = vine_df[vine_df['total_votes'] >= 20]\n",
    "filtered_vine_df.head()\n"
   ]
  },
  {
   "cell_type": "markdown",
   "id": "82c81bcd",
   "metadata": {},
   "source": [
    "# Find the most Helpful Votes"
   ]
  },
  {
   "cell_type": "code",
   "execution_count": 5,
   "id": "3278d1b0",
   "metadata": {},
   "outputs": [
    {
     "data": {
      "text/html": [
       "<div>\n",
       "<style scoped>\n",
       "    .dataframe tbody tr th:only-of-type {\n",
       "        vertical-align: middle;\n",
       "    }\n",
       "\n",
       "    .dataframe tbody tr th {\n",
       "        vertical-align: top;\n",
       "    }\n",
       "\n",
       "    .dataframe thead th {\n",
       "        text-align: right;\n",
       "    }\n",
       "</style>\n",
       "<table border=\"1\" class=\"dataframe\">\n",
       "  <thead>\n",
       "    <tr style=\"text-align: right;\">\n",
       "      <th></th>\n",
       "      <th>review_id</th>\n",
       "      <th>star_rating</th>\n",
       "      <th>helpful_votes</th>\n",
       "      <th>total_votes</th>\n",
       "      <th>vine</th>\n",
       "      <th>verified_purchase</th>\n",
       "    </tr>\n",
       "  </thead>\n",
       "  <tbody>\n",
       "    <tr>\n",
       "      <th>211</th>\n",
       "      <td>R35PT06NWP7LDP</td>\n",
       "      <td>5.0</td>\n",
       "      <td>30.0</td>\n",
       "      <td>32.0</td>\n",
       "      <td>N</td>\n",
       "      <td>N</td>\n",
       "    </tr>\n",
       "    <tr>\n",
       "      <th>372</th>\n",
       "      <td>RQW4AFOG9MR4Z</td>\n",
       "      <td>5.0</td>\n",
       "      <td>51.0</td>\n",
       "      <td>52.0</td>\n",
       "      <td>N</td>\n",
       "      <td>N</td>\n",
       "    </tr>\n",
       "    <tr>\n",
       "      <th>406</th>\n",
       "      <td>R2SMUEBMGLAJQK</td>\n",
       "      <td>5.0</td>\n",
       "      <td>29.0</td>\n",
       "      <td>36.0</td>\n",
       "      <td>N</td>\n",
       "      <td>Y</td>\n",
       "    </tr>\n",
       "    <tr>\n",
       "      <th>408</th>\n",
       "      <td>R1XVIZZALU5P6J</td>\n",
       "      <td>5.0</td>\n",
       "      <td>148.0</td>\n",
       "      <td>150.0</td>\n",
       "      <td>N</td>\n",
       "      <td>Y</td>\n",
       "    </tr>\n",
       "    <tr>\n",
       "      <th>419</th>\n",
       "      <td>R11UFMG8M2488I</td>\n",
       "      <td>4.0</td>\n",
       "      <td>23.0</td>\n",
       "      <td>26.0</td>\n",
       "      <td>N</td>\n",
       "      <td>N</td>\n",
       "    </tr>\n",
       "  </tbody>\n",
       "</table>\n",
       "</div>"
      ],
      "text/plain": [
       "          review_id  star_rating  helpful_votes  total_votes vine  \\\n",
       "211  R35PT06NWP7LDP          5.0           30.0         32.0    N   \n",
       "372   RQW4AFOG9MR4Z          5.0           51.0         52.0    N   \n",
       "406  R2SMUEBMGLAJQK          5.0           29.0         36.0    N   \n",
       "408  R1XVIZZALU5P6J          5.0          148.0        150.0    N   \n",
       "419  R11UFMG8M2488I          4.0           23.0         26.0    N   \n",
       "\n",
       "    verified_purchase  \n",
       "211                 N  \n",
       "372                 N  \n",
       "406                 Y  \n",
       "408                 Y  \n",
       "419                 N  "
      ]
     },
     "execution_count": 5,
     "metadata": {},
     "output_type": "execute_result"
    }
   ],
   "source": [
    "new_vine_df = filtered_vine_df.loc[filtered_vine_df.helpful_votes / filtered_vine_df.total_votes >= 0.5]\n",
    "new_vine_df.head()"
   ]
  },
  {
   "cell_type": "markdown",
   "id": "f85138e3",
   "metadata": {},
   "source": [
    "# Vine Reviews"
   ]
  },
  {
   "cell_type": "code",
   "execution_count": 6,
   "id": "9cc6ee2a",
   "metadata": {},
   "outputs": [
    {
     "data": {
      "text/html": [
       "<div>\n",
       "<style scoped>\n",
       "    .dataframe tbody tr th:only-of-type {\n",
       "        vertical-align: middle;\n",
       "    }\n",
       "\n",
       "    .dataframe tbody tr th {\n",
       "        vertical-align: top;\n",
       "    }\n",
       "\n",
       "    .dataframe thead th {\n",
       "        text-align: right;\n",
       "    }\n",
       "</style>\n",
       "<table border=\"1\" class=\"dataframe\">\n",
       "  <thead>\n",
       "    <tr style=\"text-align: right;\">\n",
       "      <th></th>\n",
       "      <th>review_id</th>\n",
       "      <th>star_rating</th>\n",
       "      <th>helpful_votes</th>\n",
       "      <th>total_votes</th>\n",
       "      <th>vine</th>\n",
       "      <th>verified_purchase</th>\n",
       "    </tr>\n",
       "  </thead>\n",
       "  <tbody>\n",
       "    <tr>\n",
       "      <th>50483</th>\n",
       "      <td>R6U9701C3BGO6</td>\n",
       "      <td>3.0</td>\n",
       "      <td>139.0</td>\n",
       "      <td>147.0</td>\n",
       "      <td>Y</td>\n",
       "      <td>N</td>\n",
       "    </tr>\n",
       "    <tr>\n",
       "      <th>50625</th>\n",
       "      <td>R1XK3ALB45D7N4</td>\n",
       "      <td>5.0</td>\n",
       "      <td>33.0</td>\n",
       "      <td>34.0</td>\n",
       "      <td>Y</td>\n",
       "      <td>N</td>\n",
       "    </tr>\n",
       "    <tr>\n",
       "      <th>50635</th>\n",
       "      <td>R1IZCSTLX81D6C</td>\n",
       "      <td>5.0</td>\n",
       "      <td>31.0</td>\n",
       "      <td>33.0</td>\n",
       "      <td>Y</td>\n",
       "      <td>N</td>\n",
       "    </tr>\n",
       "    <tr>\n",
       "      <th>50656</th>\n",
       "      <td>R2C8NC8EQLH4JF</td>\n",
       "      <td>3.0</td>\n",
       "      <td>45.0</td>\n",
       "      <td>48.0</td>\n",
       "      <td>Y</td>\n",
       "      <td>N</td>\n",
       "    </tr>\n",
       "    <tr>\n",
       "      <th>50890</th>\n",
       "      <td>R1JJ1YOJMOML1P</td>\n",
       "      <td>5.0</td>\n",
       "      <td>18.0</td>\n",
       "      <td>21.0</td>\n",
       "      <td>Y</td>\n",
       "      <td>N</td>\n",
       "    </tr>\n",
       "  </tbody>\n",
       "</table>\n",
       "</div>"
      ],
      "text/plain": [
       "            review_id  star_rating  helpful_votes  total_votes vine  \\\n",
       "50483   R6U9701C3BGO6          3.0          139.0        147.0    Y   \n",
       "50625  R1XK3ALB45D7N4          5.0           33.0         34.0    Y   \n",
       "50635  R1IZCSTLX81D6C          5.0           31.0         33.0    Y   \n",
       "50656  R2C8NC8EQLH4JF          3.0           45.0         48.0    Y   \n",
       "50890  R1JJ1YOJMOML1P          5.0           18.0         21.0    Y   \n",
       "\n",
       "      verified_purchase  \n",
       "50483                 N  \n",
       "50625                 N  \n",
       "50635                 N  \n",
       "50656                 N  \n",
       "50890                 N  "
      ]
     },
     "execution_count": 6,
     "metadata": {},
     "output_type": "execute_result"
    }
   ],
   "source": [
    "vine_reviews = new_vine_df[new_vine_df['vine'] == 'Y']\n",
    "vine_reviews.head()"
   ]
  },
  {
   "cell_type": "markdown",
   "id": "f69b64f5",
   "metadata": {},
   "source": [
    "# Reviews written / Not part of the Vine Program"
   ]
  },
  {
   "cell_type": "code",
   "execution_count": 8,
   "id": "0f55ea9d",
   "metadata": {},
   "outputs": [
    {
     "data": {
      "text/html": [
       "<div>\n",
       "<style scoped>\n",
       "    .dataframe tbody tr th:only-of-type {\n",
       "        vertical-align: middle;\n",
       "    }\n",
       "\n",
       "    .dataframe tbody tr th {\n",
       "        vertical-align: top;\n",
       "    }\n",
       "\n",
       "    .dataframe thead th {\n",
       "        text-align: right;\n",
       "    }\n",
       "</style>\n",
       "<table border=\"1\" class=\"dataframe\">\n",
       "  <thead>\n",
       "    <tr style=\"text-align: right;\">\n",
       "      <th></th>\n",
       "      <th>review_id</th>\n",
       "      <th>star_rating</th>\n",
       "      <th>helpful_votes</th>\n",
       "      <th>total_votes</th>\n",
       "      <th>vine</th>\n",
       "      <th>verified_purchase</th>\n",
       "    </tr>\n",
       "  </thead>\n",
       "  <tbody>\n",
       "    <tr>\n",
       "      <th>211</th>\n",
       "      <td>R35PT06NWP7LDP</td>\n",
       "      <td>5.0</td>\n",
       "      <td>30.0</td>\n",
       "      <td>32.0</td>\n",
       "      <td>N</td>\n",
       "      <td>N</td>\n",
       "    </tr>\n",
       "    <tr>\n",
       "      <th>372</th>\n",
       "      <td>RQW4AFOG9MR4Z</td>\n",
       "      <td>5.0</td>\n",
       "      <td>51.0</td>\n",
       "      <td>52.0</td>\n",
       "      <td>N</td>\n",
       "      <td>N</td>\n",
       "    </tr>\n",
       "    <tr>\n",
       "      <th>406</th>\n",
       "      <td>R2SMUEBMGLAJQK</td>\n",
       "      <td>5.0</td>\n",
       "      <td>29.0</td>\n",
       "      <td>36.0</td>\n",
       "      <td>N</td>\n",
       "      <td>Y</td>\n",
       "    </tr>\n",
       "    <tr>\n",
       "      <th>408</th>\n",
       "      <td>R1XVIZZALU5P6J</td>\n",
       "      <td>5.0</td>\n",
       "      <td>148.0</td>\n",
       "      <td>150.0</td>\n",
       "      <td>N</td>\n",
       "      <td>Y</td>\n",
       "    </tr>\n",
       "    <tr>\n",
       "      <th>419</th>\n",
       "      <td>R11UFMG8M2488I</td>\n",
       "      <td>4.0</td>\n",
       "      <td>23.0</td>\n",
       "      <td>26.0</td>\n",
       "      <td>N</td>\n",
       "      <td>N</td>\n",
       "    </tr>\n",
       "    <tr>\n",
       "      <th>548</th>\n",
       "      <td>R2OSHKSPXU68W5</td>\n",
       "      <td>5.0</td>\n",
       "      <td>136.0</td>\n",
       "      <td>147.0</td>\n",
       "      <td>N</td>\n",
       "      <td>N</td>\n",
       "    </tr>\n",
       "    <tr>\n",
       "      <th>595</th>\n",
       "      <td>R3M02FSD3BLUPU</td>\n",
       "      <td>5.0</td>\n",
       "      <td>19.0</td>\n",
       "      <td>21.0</td>\n",
       "      <td>N</td>\n",
       "      <td>N</td>\n",
       "    </tr>\n",
       "    <tr>\n",
       "      <th>701</th>\n",
       "      <td>R1P0LEEJHH09L3</td>\n",
       "      <td>5.0</td>\n",
       "      <td>32.0</td>\n",
       "      <td>32.0</td>\n",
       "      <td>N</td>\n",
       "      <td>Y</td>\n",
       "    </tr>\n",
       "    <tr>\n",
       "      <th>749</th>\n",
       "      <td>R1V6UU1EHW3Q12</td>\n",
       "      <td>5.0</td>\n",
       "      <td>57.0</td>\n",
       "      <td>62.0</td>\n",
       "      <td>N</td>\n",
       "      <td>Y</td>\n",
       "    </tr>\n",
       "    <tr>\n",
       "      <th>823</th>\n",
       "      <td>R230W87COFSTCL</td>\n",
       "      <td>5.0</td>\n",
       "      <td>21.0</td>\n",
       "      <td>21.0</td>\n",
       "      <td>N</td>\n",
       "      <td>Y</td>\n",
       "    </tr>\n",
       "  </tbody>\n",
       "</table>\n",
       "</div>"
      ],
      "text/plain": [
       "          review_id  star_rating  helpful_votes  total_votes vine  \\\n",
       "211  R35PT06NWP7LDP          5.0           30.0         32.0    N   \n",
       "372   RQW4AFOG9MR4Z          5.0           51.0         52.0    N   \n",
       "406  R2SMUEBMGLAJQK          5.0           29.0         36.0    N   \n",
       "408  R1XVIZZALU5P6J          5.0          148.0        150.0    N   \n",
       "419  R11UFMG8M2488I          4.0           23.0         26.0    N   \n",
       "548  R2OSHKSPXU68W5          5.0          136.0        147.0    N   \n",
       "595  R3M02FSD3BLUPU          5.0           19.0         21.0    N   \n",
       "701  R1P0LEEJHH09L3          5.0           32.0         32.0    N   \n",
       "749  R1V6UU1EHW3Q12          5.0           57.0         62.0    N   \n",
       "823  R230W87COFSTCL          5.0           21.0         21.0    N   \n",
       "\n",
       "    verified_purchase  \n",
       "211                 N  \n",
       "372                 N  \n",
       "406                 Y  \n",
       "408                 Y  \n",
       "419                 N  \n",
       "548                 N  \n",
       "595                 N  \n",
       "701                 Y  \n",
       "749                 Y  \n",
       "823                 Y  "
      ]
     },
     "execution_count": 8,
     "metadata": {},
     "output_type": "execute_result"
    }
   ],
   "source": [
    "not_vine_reviews = new_vine_df[new_vine_df['vine'] == 'N']\n",
    "not_vine_reviews.head(10)"
   ]
  },
  {
   "cell_type": "markdown",
   "id": "de81c1fd",
   "metadata": {},
   "source": [
    "# Five Star Review Analysis"
   ]
  },
  {
   "cell_type": "code",
   "execution_count": 9,
   "id": "95a2a90f",
   "metadata": {},
   "outputs": [
    {
     "data": {
      "text/plain": [
       "33"
      ]
     },
     "execution_count": 9,
     "metadata": {},
     "output_type": "execute_result"
    }
   ],
   "source": [
    "count_vine = len(vine_reviews)\n",
    "count_vine"
   ]
  },
  {
   "cell_type": "markdown",
   "id": "964179d2",
   "metadata": {},
   "source": [
    "#### Of all the reviews, 33 paid- vine reviews and 45,388 unpaid reviews"
   ]
  },
  {
   "cell_type": "code",
   "execution_count": 10,
   "id": "033f770c",
   "metadata": {},
   "outputs": [
    {
     "data": {
      "text/plain": [
       "45388"
      ]
     },
     "execution_count": 10,
     "metadata": {},
     "output_type": "execute_result"
    }
   ],
   "source": [
    "count_nonvine = len(not_vine_reviews)\n",
    "count_nonvine"
   ]
  },
  {
   "cell_type": "code",
   "execution_count": 11,
   "id": "e1b684c9",
   "metadata": {},
   "outputs": [
    {
     "data": {
      "text/plain": [
       "15"
      ]
     },
     "execution_count": 11,
     "metadata": {},
     "output_type": "execute_result"
    }
   ],
   "source": [
    "max_rating_vine = len(vine_reviews[vine_reviews['star_rating']==5])\n",
    "max_rating_vine\n"
   ]
  },
  {
   "cell_type": "code",
   "execution_count": 12,
   "id": "fad3e72f",
   "metadata": {},
   "outputs": [
    {
     "data": {
      "text/plain": [
       "23733"
      ]
     },
     "execution_count": 12,
     "metadata": {},
     "output_type": "execute_result"
    }
   ],
   "source": [
    "max_rating_nonvine = len(not_vine_reviews[not_vine_reviews['star_rating']==5])\n",
    "max_rating_nonvine"
   ]
  },
  {
   "cell_type": "markdown",
   "id": "be984c9b",
   "metadata": {},
   "source": [
    "#### Of all the reviews, 15 vine reviews were 5 star, while 23,733 were non-paid 5star reviews."
   ]
  },
  {
   "cell_type": "markdown",
   "id": "e87c1c0f",
   "metadata": {},
   "source": [
    "# Five Star Review % by Program"
   ]
  },
  {
   "cell_type": "code",
   "execution_count": 13,
   "id": "6b7dad42",
   "metadata": {},
   "outputs": [
    {
     "data": {
      "text/plain": [
       "0.45454545454545453"
      ]
     },
     "execution_count": 13,
     "metadata": {},
     "output_type": "execute_result"
    }
   ],
   "source": [
    "max_rating_vine/count_vine"
   ]
  },
  {
   "cell_type": "code",
   "execution_count": 14,
   "id": "c55ccf17",
   "metadata": {},
   "outputs": [
    {
     "data": {
      "text/plain": [
       "0.5228915131752886"
      ]
     },
     "execution_count": 14,
     "metadata": {},
     "output_type": "execute_result"
    }
   ],
   "source": [
    "max_rating_nonvine/count_nonvine"
   ]
  },
  {
   "cell_type": "markdown",
   "id": "6a1249f5",
   "metadata": {},
   "source": [
    "#### Paid Vine Program"
   ]
  },
  {
   "cell_type": "code",
   "execution_count": 15,
   "id": "45535080",
   "metadata": {},
   "outputs": [
    {
     "data": {
      "text/plain": [
       "4.09"
      ]
     },
     "execution_count": 15,
     "metadata": {},
     "output_type": "execute_result"
    }
   ],
   "source": [
    "round(vine_reviews['star_rating'].mean(),2)"
   ]
  },
  {
   "cell_type": "markdown",
   "id": "409c2d04",
   "metadata": {},
   "source": [
    "#### Unpaid Program "
   ]
  },
  {
   "cell_type": "code",
   "execution_count": 16,
   "id": "7383c39b",
   "metadata": {},
   "outputs": [
    {
     "data": {
      "text/plain": [
       "3.87"
      ]
     },
     "execution_count": 16,
     "metadata": {},
     "output_type": "execute_result"
    }
   ],
   "source": [
    "round(not_vine_reviews['star_rating'].mean(),2)"
   ]
  },
  {
   "cell_type": "code",
   "execution_count": null,
   "id": "61694c07",
   "metadata": {},
   "outputs": [],
   "source": []
  }
 ],
 "metadata": {
  "kernelspec": {
   "display_name": "PythonData",
   "language": "python",
   "name": "pythondata"
  },
  "language_info": {
   "codemirror_mode": {
    "name": "ipython",
    "version": 3
   },
   "file_extension": ".py",
   "mimetype": "text/x-python",
   "name": "python",
   "nbconvert_exporter": "python",
   "pygments_lexer": "ipython3",
   "version": "3.7.11"
  }
 },
 "nbformat": 4,
 "nbformat_minor": 5
}
